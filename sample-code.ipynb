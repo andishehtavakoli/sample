{
 "cells": [
  {
   "cell_type": "markdown",
   "id": "a00789b5",
   "metadata": {},
   "source": [
    "# Import Libraries "
   ]
  },
  {
   "cell_type": "code",
   "execution_count": 121,
   "id": "7d578728",
   "metadata": {},
   "outputs": [],
   "source": [
    "import pandas as pd\n",
    "import re"
   ]
  },
  {
   "cell_type": "markdown",
   "id": "9d84f6b2",
   "metadata": {},
   "source": [
    "# Read Data"
   ]
  },
  {
   "cell_type": "code",
   "execution_count": 122,
   "id": "3bc0b54b",
   "metadata": {},
   "outputs": [],
   "source": [
    "dict_ld = {\"liceness_designation\":[\"CFA, 7, 63, CPA\",\"7,63\",\"CFA, 63\",\"CFA\"]}"
   ]
  },
  {
   "cell_type": "code",
   "execution_count": 123,
   "id": "8b636f3a",
   "metadata": {},
   "outputs": [],
   "source": [
    "df = pd.DataFrame(dict_ld)"
   ]
  },
  {
   "cell_type": "code",
   "execution_count": 124,
   "id": "36b7b869",
   "metadata": {},
   "outputs": [
    {
     "data": {
      "text/html": [
       "<div>\n",
       "<style scoped>\n",
       "    .dataframe tbody tr th:only-of-type {\n",
       "        vertical-align: middle;\n",
       "    }\n",
       "\n",
       "    .dataframe tbody tr th {\n",
       "        vertical-align: top;\n",
       "    }\n",
       "\n",
       "    .dataframe thead th {\n",
       "        text-align: right;\n",
       "    }\n",
       "</style>\n",
       "<table border=\"1\" class=\"dataframe\">\n",
       "  <thead>\n",
       "    <tr style=\"text-align: right;\">\n",
       "      <th></th>\n",
       "      <th>liceness_designation</th>\n",
       "    </tr>\n",
       "  </thead>\n",
       "  <tbody>\n",
       "    <tr>\n",
       "      <th>0</th>\n",
       "      <td>CFA, 7, 63, CPA</td>\n",
       "    </tr>\n",
       "    <tr>\n",
       "      <th>1</th>\n",
       "      <td>7,63</td>\n",
       "    </tr>\n",
       "    <tr>\n",
       "      <th>2</th>\n",
       "      <td>CFA, 63</td>\n",
       "    </tr>\n",
       "    <tr>\n",
       "      <th>3</th>\n",
       "      <td>CFA</td>\n",
       "    </tr>\n",
       "  </tbody>\n",
       "</table>\n",
       "</div>"
      ],
      "text/plain": [
       "  liceness_designation\n",
       "0      CFA, 7, 63, CPA\n",
       "1                 7,63\n",
       "2              CFA, 63\n",
       "3                  CFA"
      ]
     },
     "execution_count": 124,
     "metadata": {},
     "output_type": "execute_result"
    }
   ],
   "source": [
    "df"
   ]
  },
  {
   "cell_type": "markdown",
   "id": "f1b77e9f",
   "metadata": {},
   "source": [
    "# Create Licenses Held and Number of Licenses Held"
   ]
  },
  {
   "cell_type": "code",
   "execution_count": 127,
   "id": "1dba0148",
   "metadata": {},
   "outputs": [],
   "source": [
    "df['liceness_held'] = df['liceness_designation'].str.findall(r'\\d+').apply(lambda x: ','.join(x))\n",
    "df['num_liceness_held'] = df['liceness_designation'].str.findall(r'\\d+').apply(lambda x: len(x))"
   ]
  },
  {
   "cell_type": "code",
   "execution_count": 128,
   "id": "4cff1fcf",
   "metadata": {},
   "outputs": [
    {
     "data": {
      "text/html": [
       "<div>\n",
       "<style scoped>\n",
       "    .dataframe tbody tr th:only-of-type {\n",
       "        vertical-align: middle;\n",
       "    }\n",
       "\n",
       "    .dataframe tbody tr th {\n",
       "        vertical-align: top;\n",
       "    }\n",
       "\n",
       "    .dataframe thead th {\n",
       "        text-align: right;\n",
       "    }\n",
       "</style>\n",
       "<table border=\"1\" class=\"dataframe\">\n",
       "  <thead>\n",
       "    <tr style=\"text-align: right;\">\n",
       "      <th></th>\n",
       "      <th>liceness_designation</th>\n",
       "      <th>liceness_held</th>\n",
       "      <th>num_liceness_held</th>\n",
       "    </tr>\n",
       "  </thead>\n",
       "  <tbody>\n",
       "    <tr>\n",
       "      <th>0</th>\n",
       "      <td>CFA, 7, 63, CPA</td>\n",
       "      <td>7,63</td>\n",
       "      <td>2</td>\n",
       "    </tr>\n",
       "    <tr>\n",
       "      <th>1</th>\n",
       "      <td>7,63</td>\n",
       "      <td>7,63</td>\n",
       "      <td>2</td>\n",
       "    </tr>\n",
       "    <tr>\n",
       "      <th>2</th>\n",
       "      <td>CFA, 63</td>\n",
       "      <td>63</td>\n",
       "      <td>1</td>\n",
       "    </tr>\n",
       "    <tr>\n",
       "      <th>3</th>\n",
       "      <td>CFA</td>\n",
       "      <td></td>\n",
       "      <td>0</td>\n",
       "    </tr>\n",
       "  </tbody>\n",
       "</table>\n",
       "</div>"
      ],
      "text/plain": [
       "  liceness_designation liceness_held  num_liceness_held\n",
       "0      CFA, 7, 63, CPA          7,63                  2\n",
       "1                 7,63          7,63                  2\n",
       "2              CFA, 63            63                  1\n",
       "3                  CFA                                0"
      ]
     },
     "execution_count": 128,
     "metadata": {},
     "output_type": "execute_result"
    }
   ],
   "source": [
    "df"
   ]
  },
  {
   "cell_type": "markdown",
   "id": "c1e01f7f",
   "metadata": {},
   "source": [
    "# Create Designation and Number of Designations"
   ]
  },
  {
   "cell_type": "code",
   "execution_count": 132,
   "id": "6f23b5e7",
   "metadata": {},
   "outputs": [],
   "source": [
    "df['designation'] = df['liceness_designation']\\\n",
    ".apply(lambda x: ','.join([i.strip() for i in x.split(',') if i.strip().isdigit() == False]))\n",
    "df['num_designation'] = df['liceness_designation']\\\n",
    ".apply(lambda x: len([i.strip() for i in x.split(',') if i.strip().isdigit() == False]))"
   ]
  },
  {
   "cell_type": "code",
   "execution_count": 133,
   "id": "55199b04",
   "metadata": {},
   "outputs": [
    {
     "data": {
      "text/html": [
       "<div>\n",
       "<style scoped>\n",
       "    .dataframe tbody tr th:only-of-type {\n",
       "        vertical-align: middle;\n",
       "    }\n",
       "\n",
       "    .dataframe tbody tr th {\n",
       "        vertical-align: top;\n",
       "    }\n",
       "\n",
       "    .dataframe thead th {\n",
       "        text-align: right;\n",
       "    }\n",
       "</style>\n",
       "<table border=\"1\" class=\"dataframe\">\n",
       "  <thead>\n",
       "    <tr style=\"text-align: right;\">\n",
       "      <th></th>\n",
       "      <th>liceness_designation</th>\n",
       "      <th>liceness_held</th>\n",
       "      <th>num_liceness_held</th>\n",
       "      <th>designation</th>\n",
       "      <th>num_designation</th>\n",
       "    </tr>\n",
       "  </thead>\n",
       "  <tbody>\n",
       "    <tr>\n",
       "      <th>0</th>\n",
       "      <td>CFA, 7, 63, CPA</td>\n",
       "      <td>7,63</td>\n",
       "      <td>2</td>\n",
       "      <td>CFA,CPA</td>\n",
       "      <td>2</td>\n",
       "    </tr>\n",
       "    <tr>\n",
       "      <th>1</th>\n",
       "      <td>7,63</td>\n",
       "      <td>7,63</td>\n",
       "      <td>2</td>\n",
       "      <td></td>\n",
       "      <td>0</td>\n",
       "    </tr>\n",
       "    <tr>\n",
       "      <th>2</th>\n",
       "      <td>CFA, 63</td>\n",
       "      <td>63</td>\n",
       "      <td>1</td>\n",
       "      <td>CFA</td>\n",
       "      <td>1</td>\n",
       "    </tr>\n",
       "    <tr>\n",
       "      <th>3</th>\n",
       "      <td>CFA</td>\n",
       "      <td></td>\n",
       "      <td>0</td>\n",
       "      <td>CFA</td>\n",
       "      <td>1</td>\n",
       "    </tr>\n",
       "  </tbody>\n",
       "</table>\n",
       "</div>"
      ],
      "text/plain": [
       "  liceness_designation liceness_held  num_liceness_held designation  \\\n",
       "0      CFA, 7, 63, CPA          7,63                  2     CFA,CPA   \n",
       "1                 7,63          7,63                  2               \n",
       "2              CFA, 63            63                  1         CFA   \n",
       "3                  CFA                                0         CFA   \n",
       "\n",
       "   num_designation  \n",
       "0                2  \n",
       "1                0  \n",
       "2                1  \n",
       "3                1  "
      ]
     },
     "execution_count": 133,
     "metadata": {},
     "output_type": "execute_result"
    }
   ],
   "source": [
    "df"
   ]
  },
  {
   "cell_type": "code",
   "execution_count": null,
   "id": "39da74df",
   "metadata": {},
   "outputs": [],
   "source": []
  }
 ],
 "metadata": {
  "kernelspec": {
   "display_name": "Python 3 (ipykernel)",
   "language": "python",
   "name": "python3"
  },
  "language_info": {
   "codemirror_mode": {
    "name": "ipython",
    "version": 3
   },
   "file_extension": ".py",
   "mimetype": "text/x-python",
   "name": "python",
   "nbconvert_exporter": "python",
   "pygments_lexer": "ipython3",
   "version": "3.9.7"
  }
 },
 "nbformat": 4,
 "nbformat_minor": 5
}
